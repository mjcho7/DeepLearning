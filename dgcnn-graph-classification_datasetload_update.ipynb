{
 "cells": [
  {
   "cell_type": "markdown",
   "metadata": {},
   "source": [
    "# Supervised graph classification with Deep Graph CNN"
   ]
  },
  {
   "cell_type": "markdown",
   "metadata": {},
   "source": [
    "## StellarGraph \n",
    "\n",
    "### 1. 환경 요구사항\n",
    "- Python 3.9 이하 버전 호환 (Colab은 Python 3.11 고정으로 실행 불가)\n",
    "\n",
    "### 2. 데이터 제공 문제\n",
    "- PROTEINS 데이터셋 제공 링크에서 404에러 발생\n",
    "- 직접 다운로드 후 로드로 수정\n",
    "- [PROTEINS.zip 다운로드](https://github.com/mjcho7/DeepLearning/raw/master/PROTEINS.zip)\n",
    "\n",
    "### 3. 테스트 결과\n",
    "-  학습 시 Loss 폭발 (Exploding Loss)\n",
    "   - 모델 학습 중 Loss 값이 점점 커지는 현상 발생 → 이는 데이터의 분포나 입력 특성이 잘못되었음을 의미\n",
    "   - Epoch가 진행될수록 loss 값이 증가하며 val_loss도 급증하는 패턴\n",
    "\n",
    "### 4. 예상되는 주요 원인\n",
    "- node_attributes 차원 문제 \n",
    "   - node_attributes가 원래 4차원이어야 함 (StellarGraph 공식 설명 기준)\n",
    "   - but 다운받은 PROTEINS node_attributes 자체가 단일 숫자 벡터로 제공됨 (1차원)\n",
    "   - 변환 시도 : node_labels를 One-Hot Encoding 후 node_attributes와 병합 → 4차원 완성 ( 공식문서 참조하여 아이디어 얻음 )\n",
    "   - 그러나 데이터의 분포가 이상할 가능성 존재:\n",
    "      - node_attributes 자체가 1차원이어서 변환하는 과정에서 의미적인 문제가 있을 수 있음\n",
    "      - 예측 : 단순한 병합이 아닌, 특정 scaling이나 변환이 필요할 수도 있음\n",
    "\n",
    "### 5. 최종 결과 및 확인 사항\n",
    "   1) PROTEINS 데이터 변환 과정의 불확실성 존재\n",
    "\n",
    "      - StellarGraph 패키지에서 제공하던 PROTEINS.load() 함수가 더 이상 지원되지 않음에 땨라\n",
    "      - 직접 데이터를 다운받아 StellarGraph 형식으로 변환하는 과정에서 공식 문서에 명확하지 않은 부분이 존재\n",
    "      - 특히 노드 속성 변환 과정에서 데이터셋의 원래 구조와 차이가 발생했을 가능성\n",
    "      - 즉, 학습이 제대로 이루어지지 않는 가장 큰 원인은 PROTEINS 데이터 변환 과정의 불확실성으로 추정\n",
    "\n",
    "   2) StellarGraph 패키지의 공식 데이터셋 지원 중단에 대한 의문 제기\n",
    "\n",
    "      - 해당 패키지의 지속 가능성에 대한 의문을 제기, 최신 버전에서의 유지보수 여부 확인 필요 \n",
    "      - 대체 가능 모델 고려 필요"
   ]
  },
  {
   "cell_type": "markdown",
   "metadata": {},
   "source": [
    "<table><tr><td>Run the latest release of this notebook:</td><td><a href=\"https://mybinder.org/v2/gh/stellargraph/stellargraph/master?urlpath=lab/tree/demos/graph-classification/dgcnn-graph-classification.ipynb\" alt=\"Open In Binder\" target=\"_parent\"><img src=\"https://mybinder.org/badge_logo.svg\"/></a></td><td><a href=\"https://colab.research.google.com/github/stellargraph/stellargraph/blob/master/demos/graph-classification/dgcnn-graph-classification.ipynb\" alt=\"Open In Colab\" target=\"_parent\"><img src=\"https://colab.research.google.com/assets/colab-badge.svg\"/></a></td></tr></table>"
   ]
  },
  {
   "cell_type": "markdown",
   "metadata": {},
   "source": [
    "This notebook demonstrates how to train a graph classification model in a supervised setting using the Deep Graph Convolutional Neural Network (DGCNN) [1] algorithm.\n",
    "\n",
    "In supervised graph classification, we are given a collection of graphs each with an attached categorical label. For example, the PROTEINS dataset we use for this demo is a collection of graphs each representing a chemical compound and labelled as either an enzyme or not. Our goal is to train a machine learning model that uses the graph structure of the data together with any information available for the graph's nodes, e.g., chemical properties for the compounds in PROTEINS, to predict the correct label for a previously unseen graph; a previously unseen graph is one that was not used for training and validating the model.\n",
    "\n",
    "The DGCNN architecture was proposed in [1] (see Figure 5 in [1]) using the graph convolutional layers from [2] but with a modified propagation rule (see [1] for details). DGCNN introduces a new `SortPooling` layer to generate a representation (also know as embedding) for each given graph using as input the representations learned for each node via a stack of graph convolutional layers. The output of the `SortPooling` layer is then used as input to one-dimensional convolutional, max pooling, and dense layers that learn graph-level features suitable for predicting graph labels.\n",
    "\n",
    "**References**\n",
    "\n",
    "[1] An End-to-End Deep Learning Architecture for Graph Classification, M. Zhang, Z. Cui, M. Neumann, Y. Chen, AAAI-18. ([link](https://www.aaai.org/ocs/index.php/AAAI/AAAI18/paper/viewPaper/17146))\n",
    "\n",
    "[2] Semi-supervised Classification with Graph Convolutional Networks, T. N. Kipf and M. Welling, ICLR 2017. ([link](https://arxiv.org/abs/1609.02907))\n"
   ]
  },
  {
   "cell_type": "code",
   "execution_count": 1,
   "metadata": {
    "nbsphinx": "hidden",
    "tags": [
     "CloudRunner"
    ]
   },
   "outputs": [],
   "source": [
    "# install StellarGraph if running on Google Colab\n",
    "import sys\n",
    "if 'google.colab' in sys.modules:\n",
    "  %pip install -q stellargraph[demos]==1.2.1"
   ]
  },
  {
   "cell_type": "code",
   "execution_count": 4,
   "metadata": {
    "nbsphinx": "hidden",
    "tags": [
     "VersionCheck"
    ]
   },
   "outputs": [],
   "source": [
    "# verify that we're using the correct version of StellarGraph for this notebook\n",
    "import sys\n",
    "import stellargraph as sg\n",
    "\n",
    "try:\n",
    "    sg.utils.validate_notebook_version(\"1.2.1\")\n",
    "except AttributeError:\n",
    "    raise ValueError(\n",
    "        f\"This notebook requires StellarGraph version 1.2.1, but a different version {sg.__version__} is installed.  Please see <https://github.com/stellargraph/stellargraph/issues/1172>.\"\n",
    "    ) from None"
   ]
  },
  {
   "cell_type": "code",
   "execution_count": 12,
   "metadata": {},
   "outputs": [],
   "source": [
    "import pandas as pd\n",
    "import numpy as np\n",
    "\n",
    "import stellargraph as sg\n",
    "from stellargraph.mapper import PaddedGraphGenerator\n",
    "from stellargraph.layer import DeepGraphCNN\n",
    "from stellargraph import StellarGraph\n",
    "\n",
    "from stellargraph import datasets\n",
    "\n",
    "from sklearn import model_selection\n",
    "from IPython.display import display, HTML\n",
    "\n",
    "from tensorflow.keras import Model\n",
    "from tensorflow.keras.optimizers import Adam\n",
    "from tensorflow.keras.layers import Dense, Conv1D, MaxPool1D, Dropout, Flatten\n",
    "from tensorflow.keras.losses import binary_crossentropy\n",
    "import tensorflow as tf"
   ]
  },
  {
   "cell_type": "markdown",
   "metadata": {},
   "source": [
    "## Import the data"
   ]
  },
  {
   "cell_type": "code",
   "execution_count": 1,
   "metadata": {},
   "outputs": [
    {
     "name": "stdout",
     "output_type": "stream",
     "text": [
      "데이터 로드 완료! 총 1113개의 그래프가 생성됨.\n"
     ]
    }
   ],
   "source": [
    "import zipfile\n",
    "import pandas as pd\n",
    "import numpy as np\n",
    "import os\n",
    "from stellargraph import StellarGraph\n",
    "\n",
    "# 압축 해제\n",
    "with zipfile.ZipFile(\"PROTEINS.zip\", \"r\") as zip_ref:\n",
    "    zip_ref.extractall(\"PROTEINS\")\n",
    "\n",
    "# 데이터 경로 설정\n",
    "path = \"./PROTEINS/PROTEINS\"\n",
    "\n",
    "# 1. 데이터 불러오기\n",
    "edges = pd.read_csv(os.path.join(path, 'PROTEINS_A.txt'), header=None, names=[\"source\", \"target\"])\n",
    "graph_labels = pd.read_csv(os.path.join(path, 'PROTEINS_graph_labels.txt'), header=None, names=[\"label\"])\n",
    "graph_indicator = pd.read_csv(os.path.join(path, 'PROTEINS_graph_indicator.txt'), header=None, names=[\"graph_id\"])\n",
    "node_labels = pd.read_csv(os.path.join(path, 'PROTEINS_node_labels.txt'), header=None, dtype=\"category\")\n",
    "\n",
    "# 2. 노드 속성 로드 (올바른 방식 적용)\n",
    "node_attributes = pd.read_csv(\n",
    "    os.path.join(path, \"PROTEINS_node_attributes.txt\"),\n",
    "    header=None,\n",
    "    dtype=np.float32  # 확실하게 float32로 설정\n",
    ")\n",
    "\n",
    "# 3. One-Hot Encoding 적용 (기존 node_labels 문제 해결)\n",
    "node_labels_encoded = pd.get_dummies(node_labels)\n",
    "\n",
    "# 4. 노드 속성과 병합하여 4차원 노드 속성 생성\n",
    "node_features = pd.concat([node_labels_encoded, node_attributes], axis=1)\n",
    "\n",
    "# 5. 그래프 ID 정리 (0부터 시작)\n",
    "edges[\"source\"] -= 1\n",
    "edges[\"target\"] -= 1\n",
    "graph_indicator[\"graph_id\"] -= 1\n",
    "\n",
    "# 6. StellarGraph 형식으로 변환\n",
    "graphs = []\n",
    "unique_graphs = graph_indicator[\"graph_id\"].unique()\n",
    "\n",
    "for graph_id in unique_graphs:\n",
    "    # 현재 그래프에 속하는 노드 및 엣지 필터링\n",
    "    node_mask = graph_indicator[\"graph_id\"] == graph_id\n",
    "    edge_mask = edges[\"source\"].isin(graph_indicator[node_mask].index) & edges[\"target\"].isin(graph_indicator[node_mask].index)\n",
    "\n",
    "    # 노드 데이터 추출\n",
    "    nodes = node_features.loc[node_mask]\n",
    "\n",
    "    # 엣지 데이터 추출\n",
    "    graph_edges = edges.loc[edge_mask]\n",
    "\n",
    "    # StellarGraph 생성\n",
    "    G = StellarGraph(nodes=nodes, edges=graph_edges)\n",
    "    graphs.append(G)\n",
    "\n",
    "print(f\"데이터 로드 완료! 총 {len(graphs)}개의 그래프가 생성됨.\")\n"
   ]
  },
  {
   "cell_type": "code",
   "execution_count": 131,
   "metadata": {},
   "outputs": [
    {
     "name": "stdout",
     "output_type": "stream",
     "text": [
      "StellarGraph: Undirected multigraph\n",
      " Nodes: 42, Edges: 162\n",
      "\n",
      " Node types:\n",
      "  default: [42]\n",
      "    Features: float32 vector, length 4\n",
      "    Edge types: default-default->default\n",
      "\n",
      " Edge types:\n",
      "    default-default->default: [162]\n",
      "        Weights: all 1 (default)\n",
      "        Features: none\n"
     ]
    }
   ],
   "source": [
    "print(graphs[0].info())"
   ]
  },
  {
   "cell_type": "code",
   "execution_count": 132,
   "metadata": {},
   "outputs": [
    {
     "name": "stdout",
     "output_type": "stream",
     "text": [
      "StellarGraph: Undirected multigraph\n",
      " Nodes: 27, Edges: 92\n",
      "\n",
      " Node types:\n",
      "  default: [27]\n",
      "    Features: float32 vector, length 4\n",
      "    Edge types: default-default->default\n",
      "\n",
      " Edge types:\n",
      "    default-default->default: [92]\n",
      "        Weights: all 1 (default)\n",
      "        Features: none\n"
     ]
    }
   ],
   "source": [
    "print(graphs[1].info())"
   ]
  },
  {
   "cell_type": "markdown",
   "metadata": {},
   "source": [
    "Summary statistics of the sizes of the graphs:"
   ]
  },
  {
   "cell_type": "code",
   "execution_count": 133,
   "metadata": {},
   "outputs": [
    {
     "data": {
      "text/html": [
       "<div>\n",
       "<style scoped>\n",
       "    .dataframe tbody tr th:only-of-type {\n",
       "        vertical-align: middle;\n",
       "    }\n",
       "\n",
       "    .dataframe tbody tr th {\n",
       "        vertical-align: top;\n",
       "    }\n",
       "\n",
       "    .dataframe thead th {\n",
       "        text-align: right;\n",
       "    }\n",
       "</style>\n",
       "<table border=\"1\" class=\"dataframe\">\n",
       "  <thead>\n",
       "    <tr style=\"text-align: right;\">\n",
       "      <th></th>\n",
       "      <th>nodes</th>\n",
       "      <th>edges</th>\n",
       "    </tr>\n",
       "  </thead>\n",
       "  <tbody>\n",
       "    <tr>\n",
       "      <th>count</th>\n",
       "      <td>1113.0</td>\n",
       "      <td>1113.0</td>\n",
       "    </tr>\n",
       "    <tr>\n",
       "      <th>mean</th>\n",
       "      <td>39.1</td>\n",
       "      <td>145.6</td>\n",
       "    </tr>\n",
       "    <tr>\n",
       "      <th>std</th>\n",
       "      <td>45.8</td>\n",
       "      <td>169.3</td>\n",
       "    </tr>\n",
       "    <tr>\n",
       "      <th>min</th>\n",
       "      <td>4.0</td>\n",
       "      <td>10.0</td>\n",
       "    </tr>\n",
       "    <tr>\n",
       "      <th>25%</th>\n",
       "      <td>15.0</td>\n",
       "      <td>56.0</td>\n",
       "    </tr>\n",
       "    <tr>\n",
       "      <th>50%</th>\n",
       "      <td>26.0</td>\n",
       "      <td>98.0</td>\n",
       "    </tr>\n",
       "    <tr>\n",
       "      <th>75%</th>\n",
       "      <td>45.0</td>\n",
       "      <td>174.0</td>\n",
       "    </tr>\n",
       "    <tr>\n",
       "      <th>max</th>\n",
       "      <td>620.0</td>\n",
       "      <td>2098.0</td>\n",
       "    </tr>\n",
       "  </tbody>\n",
       "</table>\n",
       "</div>"
      ],
      "text/plain": [
       "        nodes   edges\n",
       "count  1113.0  1113.0\n",
       "mean     39.1   145.6\n",
       "std      45.8   169.3\n",
       "min       4.0    10.0\n",
       "25%      15.0    56.0\n",
       "50%      26.0    98.0\n",
       "75%      45.0   174.0\n",
       "max     620.0  2098.0"
      ]
     },
     "execution_count": 133,
     "metadata": {},
     "output_type": "execute_result"
    }
   ],
   "source": [
    "summary = pd.DataFrame(\n",
    "    [(g.number_of_nodes(), g.number_of_edges()) for g in graphs],\n",
    "    columns=[\"nodes\", \"edges\"],\n",
    ")\n",
    "summary.describe().round(1)"
   ]
  },
  {
   "cell_type": "markdown",
   "metadata": {},
   "source": [
    "The labels are `1` or `2`:"
   ]
  },
  {
   "cell_type": "code",
   "execution_count": 134,
   "metadata": {},
   "outputs": [
    {
     "data": {
      "text/html": [
       "<div>\n",
       "<style scoped>\n",
       "    .dataframe tbody tr th:only-of-type {\n",
       "        vertical-align: middle;\n",
       "    }\n",
       "\n",
       "    .dataframe tbody tr th {\n",
       "        vertical-align: top;\n",
       "    }\n",
       "\n",
       "    .dataframe thead th {\n",
       "        text-align: right;\n",
       "    }\n",
       "</style>\n",
       "<table border=\"1\" class=\"dataframe\">\n",
       "  <thead>\n",
       "    <tr style=\"text-align: right;\">\n",
       "      <th></th>\n",
       "      <th>0</th>\n",
       "    </tr>\n",
       "    <tr>\n",
       "      <th>label</th>\n",
       "      <th></th>\n",
       "    </tr>\n",
       "  </thead>\n",
       "  <tbody>\n",
       "    <tr>\n",
       "      <th>1</th>\n",
       "      <td>663</td>\n",
       "    </tr>\n",
       "    <tr>\n",
       "      <th>2</th>\n",
       "      <td>450</td>\n",
       "    </tr>\n",
       "  </tbody>\n",
       "</table>\n",
       "</div>"
      ],
      "text/plain": [
       "         0\n",
       "label     \n",
       "1      663\n",
       "2      450"
      ]
     },
     "execution_count": 134,
     "metadata": {},
     "output_type": "execute_result"
    }
   ],
   "source": [
    "graph_labels.value_counts().to_frame()"
   ]
  },
  {
   "cell_type": "code",
   "execution_count": 135,
   "metadata": {},
   "outputs": [],
   "source": [
    "graph_labels = pd.get_dummies(graph_labels, drop_first=True)"
   ]
  },
  {
   "cell_type": "markdown",
   "metadata": {},
   "source": [
    "### Prepare graph generator\n",
    "\n",
    "To feed data to the `tf.Keras` model that we will create later, we need a data generator. For supervised graph classification, we create an instance of `StellarGraph`'s `PaddedGraphGenerator` class."
   ]
  },
  {
   "cell_type": "code",
   "execution_count": 136,
   "metadata": {},
   "outputs": [],
   "source": [
    "generator = PaddedGraphGenerator(graphs=graphs)"
   ]
  },
  {
   "cell_type": "markdown",
   "metadata": {},
   "source": [
    "### Create the Keras graph classification model\n",
    "\n",
    "We are now ready to create a `tf.Keras` graph classification model using `StellarGraph`'s `DeepGraphCNN` class together with standard `tf.Keras` layers `Conv1D`, `MapPool1D`, `Dropout`, and `Dense`. \n",
    "\n",
    "The model's input is the graph represented by its adjacency and node features matrices. The first four layers are Graph Convolutional as in [2] but using the adjacency normalisation from [1], $D^{-1}A$ where $A$ is the adjacency matrix with self loops and $D$ is the corresponding degree matrix. The graph convolutional layers each have 32, 32, 32, 1 units and `tanh` activations. \n",
    "\n",
    "The next layer is a one dimensional convolutional layer, `Conv1D`, followed by a max pooling, `MaxPool1D`, layer. Next is a second `Conv1D` layer that is followed by two `Dense` layers the second used for binary classification. The convolutional and dense layers use `relu` activation except for the last dense layer that uses `sigmoid` for classification. As described in [1], we add a `Dropout` layer after the first `Dense` layer."
   ]
  },
  {
   "cell_type": "markdown",
   "metadata": {},
   "source": [
    "![](dgcnn_architecture.png)"
   ]
  },
  {
   "cell_type": "markdown",
   "metadata": {},
   "source": [
    "First we create the base DGCNN model that includes the graph convolutional and `SortPooling` layers."
   ]
  },
  {
   "cell_type": "code",
   "execution_count": 137,
   "metadata": {},
   "outputs": [],
   "source": [
    "k = 35  # the number of rows for the output tensor\n",
    "layer_sizes = [32, 32, 32, 1]\n",
    "\n",
    "dgcnn_model = DeepGraphCNN(\n",
    "    layer_sizes=layer_sizes,\n",
    "    activations=[\"tanh\", \"tanh\", \"tanh\", \"tanh\"],\n",
    "    k=k,\n",
    "    bias=False,\n",
    "    generator=generator,\n",
    ")\n",
    "x_inp, x_out = dgcnn_model.in_out_tensors()"
   ]
  },
  {
   "cell_type": "markdown",
   "metadata": {},
   "source": [
    "Next, we add the convolutional, max pooling, and dense layers."
   ]
  },
  {
   "cell_type": "code",
   "execution_count": 138,
   "metadata": {},
   "outputs": [],
   "source": [
    "x_out = Conv1D(filters=16, kernel_size=sum(layer_sizes), strides=sum(layer_sizes))(x_out)\n",
    "x_out = MaxPool1D(pool_size=2)(x_out)\n",
    "\n",
    "x_out = Conv1D(filters=32, kernel_size=5, strides=1)(x_out)\n",
    "\n",
    "x_out = Flatten()(x_out)\n",
    "\n",
    "x_out = Dense(units=128, activation=\"relu\")(x_out)\n",
    "x_out = Dropout(rate=0.5)(x_out)\n",
    "\n",
    "predictions = Dense(units=1, activation=\"sigmoid\")(x_out)"
   ]
  },
  {
   "cell_type": "markdown",
   "metadata": {},
   "source": [
    "Finally, we create the `Keras` model and prepare it for training by specifying the loss and optimisation algorithm."
   ]
  },
  {
   "cell_type": "code",
   "execution_count": 139,
   "metadata": {},
   "outputs": [
    {
     "name": "stderr",
     "output_type": "stream",
     "text": [
      "WARNING:absl:`lr` is deprecated, please use `learning_rate` instead, or use the legacy optimizer, e.g.,tf.keras.optimizers.legacy.Adam.\n"
     ]
    }
   ],
   "source": [
    "model = Model(inputs=x_inp, outputs=predictions)\n",
    "\n",
    "model.compile(\n",
    "    optimizer=Adam(lr=0.0001), loss=binary_crossentropy, metrics=[\"acc\"],\n",
    ")"
   ]
  },
  {
   "cell_type": "markdown",
   "metadata": {},
   "source": [
    "### Train the model\n",
    "\n",
    "We can now train the model using the model's `fit` method.\n",
    "\n",
    "But first we need to split our data to training and test sets. We are going to use 90% of the data for training and the remaining 10% for testing. This 90/10 split is the equivalent of a single fold in the 10-fold cross validation scheme used in [1]."
   ]
  },
  {
   "cell_type": "code",
   "execution_count": 140,
   "metadata": {},
   "outputs": [],
   "source": [
    "train_graphs, test_graphs = model_selection.train_test_split(\n",
    "    graph_labels, train_size=0.9, test_size=None, stratify=graph_labels,\n",
    ")"
   ]
  },
  {
   "cell_type": "markdown",
   "metadata": {},
   "source": [
    "Given the data split into train and test sets, we create a `StellarGraph.PaddedGenerator` generator object that prepares the data for training. We create data generators suitable for training at `tf.keras` model by calling the latter generator's `flow` method specifying the train and test data."
   ]
  },
  {
   "cell_type": "code",
   "execution_count": 141,
   "metadata": {},
   "outputs": [],
   "source": [
    "gen = PaddedGraphGenerator(graphs=graphs)\n",
    "\n",
    "train_gen = gen.flow(\n",
    "    list(train_graphs.index - 1),\n",
    "    targets=train_graphs.values,\n",
    "    batch_size=50,\n",
    "    symmetric_normalization=False,\n",
    ")\n",
    "\n",
    "test_gen = gen.flow(\n",
    "    list(test_graphs.index - 1),\n",
    "    targets=test_graphs.values,\n",
    "    batch_size=1,\n",
    "    symmetric_normalization=False,\n",
    ")"
   ]
  },
  {
   "cell_type": "markdown",
   "metadata": {},
   "source": [
    "**Note**: We set the number of epochs to a large value so the call to `model.fit(...)` later might take a long time to complete. For faster performance set `epochs` to a smaller value; but if you do accuracy of the model found may be low."
   ]
  },
  {
   "cell_type": "code",
   "execution_count": 142,
   "metadata": {
    "tags": [
     "parameters"
    ]
   },
   "outputs": [],
   "source": [
    "epochs = 30"
   ]
  },
  {
   "cell_type": "markdown",
   "metadata": {},
   "source": [
    "We can now train the model by calling it's `fit` method."
   ]
  },
  {
   "cell_type": "code",
   "execution_count": 143,
   "metadata": {},
   "outputs": [
    {
     "name": "stdout",
     "output_type": "stream",
     "text": [
      "Epoch 1/30\n",
      "21/21 [==============================] - 4s 95ms/step - loss: -6.6420 - acc: 0.5634 - val_loss: -32.0535 - val_acc: 0.5982\n",
      "Epoch 2/30\n",
      "21/21 [==============================] - 2s 78ms/step - loss: -173.8140 - acc: 0.5954 - val_loss: -564.9880 - val_acc: 0.5982\n",
      "Epoch 3/30\n",
      "21/21 [==============================] - 2s 77ms/step - loss: -1548.2250 - acc: 0.5954 - val_loss: -3643.8762 - val_acc: 0.5982\n",
      "Epoch 4/30\n",
      "21/21 [==============================] - 2s 82ms/step - loss: -7033.9019 - acc: 0.5954 - val_loss: -14161.0967 - val_acc: 0.5982\n",
      "Epoch 5/30\n",
      "21/21 [==============================] - 2s 80ms/step - loss: -22709.9863 - acc: 0.5954 - val_loss: -41300.3945 - val_acc: 0.5982\n",
      "Epoch 6/30\n",
      "21/21 [==============================] - 2s 77ms/step - loss: -57567.8633 - acc: 0.5954 - val_loss: -99240.5000 - val_acc: 0.5982\n",
      "Epoch 7/30\n",
      "21/21 [==============================] - 2s 80ms/step - loss: -127773.2031 - acc: 0.5954 - val_loss: -207970.5781 - val_acc: 0.5982\n",
      "Epoch 8/30\n",
      "21/21 [==============================] - 2s 79ms/step - loss: -255616.4375 - acc: 0.5954 - val_loss: -390429.5625 - val_acc: 0.5982\n",
      "Epoch 9/30\n",
      "21/21 [==============================] - 2s 77ms/step - loss: -454741.2188 - acc: 0.5954 - val_loss: -686029.5625 - val_acc: 0.5982\n",
      "Epoch 10/30\n",
      "21/21 [==============================] - 2s 82ms/step - loss: -777093.3750 - acc: 0.5954 - val_loss: -1132331.5000 - val_acc: 0.5982\n",
      "Epoch 11/30\n",
      "21/21 [==============================] - 2s 84ms/step - loss: -1235958.8750 - acc: 0.5954 - val_loss: -1749467.8750 - val_acc: 0.5982\n",
      "Epoch 12/30\n",
      "21/21 [==============================] - 2s 83ms/step - loss: -1939883.2500 - acc: 0.5954 - val_loss: -2607869.7500 - val_acc: 0.5982\n",
      "Epoch 13/30\n",
      "21/21 [==============================] - 2s 76ms/step - loss: -2799392.0000 - acc: 0.5954 - val_loss: -3757755.7500 - val_acc: 0.5982\n",
      "Epoch 14/30\n",
      "21/21 [==============================] - 2s 83ms/step - loss: -3967553.0000 - acc: 0.5954 - val_loss: -5270977.5000 - val_acc: 0.5982\n",
      "Epoch 15/30\n",
      "21/21 [==============================] - 2s 83ms/step - loss: -5420739.5000 - acc: 0.5954 - val_loss: -7125144.0000 - val_acc: 0.5982\n",
      "Epoch 16/30\n",
      "21/21 [==============================] - 2s 84ms/step - loss: -7238405.0000 - acc: 0.5954 - val_loss: -9517830.0000 - val_acc: 0.5982\n",
      "Epoch 17/30\n",
      "21/21 [==============================] - 2s 87ms/step - loss: -9591975.0000 - acc: 0.5954 - val_loss: -12431851.0000 - val_acc: 0.5982\n",
      "Epoch 18/30\n",
      "21/21 [==============================] - 2s 81ms/step - loss: -12573873.0000 - acc: 0.5954 - val_loss: -15965033.0000 - val_acc: 0.5982\n",
      "Epoch 19/30\n",
      "21/21 [==============================] - 2s 72ms/step - loss: -15720638.0000 - acc: 0.5954 - val_loss: -20303218.0000 - val_acc: 0.5982\n",
      "Epoch 20/30\n",
      "21/21 [==============================] - 2s 67ms/step - loss: -20203576.0000 - acc: 0.5954 - val_loss: -25295618.0000 - val_acc: 0.5982\n",
      "Epoch 21/30\n",
      "21/21 [==============================] - 2s 86ms/step - loss: -24883830.0000 - acc: 0.5954 - val_loss: -31159958.0000 - val_acc: 0.5982\n",
      "Epoch 22/30\n",
      "21/21 [==============================] - 2s 88ms/step - loss: -30650104.0000 - acc: 0.5954 - val_loss: -37923796.0000 - val_acc: 0.5982\n",
      "Epoch 23/30\n",
      "21/21 [==============================] - 2s 91ms/step - loss: -36807688.0000 - acc: 0.5954 - val_loss: -45924668.0000 - val_acc: 0.5982\n",
      "Epoch 24/30\n",
      "21/21 [==============================] - 2s 75ms/step - loss: -44644484.0000 - acc: 0.5954 - val_loss: -54852412.0000 - val_acc: 0.5982\n",
      "Epoch 25/30\n",
      "21/21 [==============================] - 2s 95ms/step - loss: -53020628.0000 - acc: 0.5954 - val_loss: -65091672.0000 - val_acc: 0.5982\n",
      "Epoch 26/30\n",
      "21/21 [==============================] - 2s 91ms/step - loss: -61835052.0000 - acc: 0.5954 - val_loss: -76772216.0000 - val_acc: 0.5982\n",
      "Epoch 27/30\n",
      "21/21 [==============================] - 2s 91ms/step - loss: -73711784.0000 - acc: 0.5954 - val_loss: -90002512.0000 - val_acc: 0.5982\n",
      "Epoch 28/30\n",
      "21/21 [==============================] - 2s 89ms/step - loss: -84360200.0000 - acc: 0.5954 - val_loss: -104373784.0000 - val_acc: 0.5982\n",
      "Epoch 29/30\n",
      "21/21 [==============================] - 2s 86ms/step - loss: -98844288.0000 - acc: 0.5954 - val_loss: -120801488.0000 - val_acc: 0.5982\n",
      "Epoch 30/30\n",
      "21/21 [==============================] - 2s 87ms/step - loss: -115007008.0000 - acc: 0.5954 - val_loss: -138385136.0000 - val_acc: 0.5982\n"
     ]
    }
   ],
   "source": [
    "history = model.fit(\n",
    "    train_gen, epochs=epochs, verbose=1, validation_data=test_gen, shuffle=True,\n",
    ")"
   ]
  },
  {
   "cell_type": "markdown",
   "metadata": {},
   "source": [
    "Let us plot the training history (losses and accuracies for the train and test data)."
   ]
  },
  {
   "cell_type": "code",
   "execution_count": 144,
   "metadata": {},
   "outputs": [
    {
     "data": {
      "image/png": "[encoded data removed]",
      "text/plain": [
       "<Figure size 700x800 with 2 Axes>"
      ]
     },
     "metadata": {},
     "output_type": "display_data"
    }
   ],
   "source": [
    "sg.utils.plot_history(history)"
   ]
  },
  {
   "cell_type": "markdown",
   "metadata": {},
   "source": [
    "Finally, let us calculate the performance of the trained model on the test data."
   ]
  },
  {
   "cell_type": "code",
   "execution_count": 145,
   "metadata": {},
   "outputs": [
    {
     "name": "stdout",
     "output_type": "stream",
     "text": [
      "112/112 [==============================] - 0s 2ms/step - loss: -138385136.0000 - acc: 0.5982\n",
      "\n",
      "Test Set Metrics:\n",
      "\tloss: -138385136.0000\n",
      "\tacc: 0.5982\n"
     ]
    }
   ],
   "source": [
    "test_metrics = model.evaluate(test_gen)\n",
    "print(\"\\nTest Set Metrics:\")\n",
    "for name, val in zip(model.metrics_names, test_metrics):\n",
    "    print(\"\\t{}: {:0.4f}\".format(name, val))"
   ]
  },
  {
   "cell_type": "markdown",
   "metadata": {},
   "source": [
    "### Conclusion\n",
    "\n",
    "We demonstrated the use of `StellarGraph`'s `DeepGraphCNN` implementation for supervised graph classification algorithm. More specifically we showed how to  predict whether a chemical compound represented as a graph is an enzyme or not.\n",
    "\n",
    "Performance is similar to that reported in [1] but a small difference does exist. This difference can be attributed to a small number of factors listed below, \n",
    "- We use a different training scheme, that is a single 90/10 split of the data as opposed to the repeated 10-fold cross validation scheme used in [1]. We use a single fold for ease of exposition. \n",
    "- The experimental evaluation scheme in [1] does not specify some important details such as: the regularisation used for the neural network layers; if a bias term is included; the weight initialization method used; and the batch size."
   ]
  },
  {
   "cell_type": "markdown",
   "metadata": {
    "nbsphinx": "hidden",
    "tags": [
     "CloudRunner"
    ]
   },
   "source": [
    "<table><tr><td>Run the latest release of this notebook:</td><td><a href=\"https://mybinder.org/v2/gh/stellargraph/stellargraph/master?urlpath=lab/tree/demos/graph-classification/dgcnn-graph-classification.ipynb\" alt=\"Open In Binder\" target=\"_parent\"><img src=\"https://mybinder.org/badge_logo.svg\"/></a></td><td><a href=\"https://colab.research.google.com/github/stellargraph/stellargraph/blob/master/demos/graph-classification/dgcnn-graph-classification.ipynb\" alt=\"Open In Colab\" target=\"_parent\"><img src=\"https://colab.research.google.com/assets/colab-badge.svg\"/></a></td></tr></table>"
   ]
  }
 ],
 "metadata": {
  "kernelspec": {
   "display_name": "stellar_env",
   "language": "python",
   "name": "python3"
  },
  "language_info": {
   "codemirror_mode": {
    "name": "ipython",
    "version": 3
   },
   "file_extension": ".py",
   "mimetype": "text/x-python",
   "name": "python",
   "nbconvert_exporter": "python",
   "pygments_lexer": "ipython3",
   "version": "3.7.9"
  }
 },
 "nbformat": 4,
 "nbformat_minor": 4
}
